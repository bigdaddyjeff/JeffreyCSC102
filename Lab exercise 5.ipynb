{
 "cells": [
  {
   "cell_type": "markdown",
   "metadata": {},
   "source": [
    "## Exercise 1"
   ]
  },
  {
   "cell_type": "code",
   "execution_count": 8,
   "metadata": {},
   "outputs": [
    {
     "name": "stdout",
     "output_type": "stream",
     "text": [
      "Do you want to shutdown your system?  yes\n",
      "Shutting down...  \n"
     ]
    }
   ],
   "source": [
    "user = input(\"Do you want to shutdown your system?  \")\n",
    "\n",
    "\n",
    "def shut_down():\n",
    "    if user == \"yes\":\n",
    "        print(\"Shutting down...  \")\n",
    "    elif user == \"no\":\n",
    "        print(\"Shutdown aborted  \")\n",
    "    else:\n",
    "        print(\"Sorry, such argument not welcome here  \")\n",
    "        \n",
    "shut_down()"
   ]
  },
  {
   "cell_type": "markdown",
   "metadata": {},
   "source": [
    "## Exercise 2"
   ]
  },
  {
   "cell_type": "code",
   "execution_count": null,
   "metadata": {},
   "outputs": [],
   "source": [
    "import colorama\n",
    "from colorama import Fore, Style\n",
    "import pandas as pd\n",
    "import csv\n",
    "\n",
    "def showEmployee(c):\n",
    "    m = 0\n",
    "    while m < c:\n",
    "        n = input(\"enter name: \")\n",
    "        s = int(input(\"Ënter salary: \"))\n",
    "        x = {}\n",
    "        if (s>1000000):\n",
    "            print(Fore.GREEN + \"Name: \", n)\n",
    "            print(\"Salary: \", s)\n",
    "        elif (s > 500000) & (s < 1000000):\n",
    "            print(Fore.BLUE + \"Name: \", n)\n",
    "            print(\"Salary: \",s)\n",
    "        else:\n",
    "            print(Fore.RED + \"No salary structure for Employee\")\n",
    "        \n",
    "        field_names = [\"No\", \"Name\",\"Salary\"]\n",
    "        x = [{\"No\":m,\"Name\":n, \"Salary\":s}]\n",
    "        \n",
    "        with open(\"Names.csv\", \"w\") as csvfile:\n",
    "            writer = csv.DictWriter(csvfile, fieldnames = field_names)\n",
    "            writer.writeheader()\n",
    "            writer.writerows(x)\n",
    "        m += 1\n",
    "c = int(input(\"Enter number of Employees: \"))\n",
    "\n",
    "showEmployee()"
   ]
  },
  {
   "cell_type": "code",
   "execution_count": null,
   "metadata": {},
   "outputs": [],
   "source": []
  },
  {
   "cell_type": "code",
   "execution_count": null,
   "metadata": {},
   "outputs": [],
   "source": []
  },
  {
   "cell_type": "code",
   "execution_count": null,
   "metadata": {},
   "outputs": [],
   "source": []
  },
  {
   "cell_type": "markdown",
   "metadata": {},
   "source": [
    "## Exercise 3"
   ]
  },
  {
   "cell_type": "code",
   "execution_count": 20,
   "metadata": {},
   "outputs": [
    {
     "name": "stdout",
     "output_type": "stream",
     "text": [
      "What is the number you want to cube?  23\n",
      "12167\n",
      "What is the number?  12\n",
      "1728\n"
     ]
    }
   ],
   "source": [
    "def cube(number):\n",
    "    print(number * number * number)\n",
    "\n",
    "cube(int(input(\"What is the number you want to cube?  \")))\n",
    "\n",
    "def by_three(number):\n",
    "    if number % 3 == 0:\n",
    "        cube(number)\n",
    "    else:\n",
    "        return \"False\"\n",
    "by_three(int(input(\"What is the number?  \")))"
   ]
  },
  {
   "cell_type": "markdown",
   "metadata": {},
   "source": [
    "## Exercise 4"
   ]
  },
  {
   "cell_type": "code",
   "execution_count": 19,
   "metadata": {
    "scrolled": true
   },
   "outputs": [
    {
     "name": "stdout",
     "output_type": "stream",
     "text": [
      "Enter string:JKHGqwerty\n",
      "The number of lowercase characters is:  6\n",
      "The number of uppercase characters is:  4\n"
     ]
    }
   ],
   "source": [
    "\n",
    "\n",
    "def calculate(string):\n",
    "    \n",
    "    count1 = 0\n",
    "    count2 = 0\n",
    "    \n",
    "    for letter in string:\n",
    "        if letter.islower():\n",
    "            count1 = count1+1\n",
    "        elif letter.isupper():\n",
    "            count2 = count2+1\n",
    "    print(\"The number of lowercase characters is: \",count1)\n",
    "    print(\"The number of uppercase characters is: \",count2 )\n",
    "\n",
    "calculate(input(\"Enter string:\"))"
   ]
  },
  {
   "cell_type": "code",
   "execution_count": null,
   "metadata": {},
   "outputs": [],
   "source": []
  }
 ],
 "metadata": {
  "kernelspec": {
   "display_name": "Python 3",
   "language": "python",
   "name": "python3"
  },
  "language_info": {
   "codemirror_mode": {
    "name": "ipython",
    "version": 3
   },
   "file_extension": ".py",
   "mimetype": "text/x-python",
   "name": "python",
   "nbconvert_exporter": "python",
   "pygments_lexer": "ipython3",
   "version": "3.8.5"
  }
 },
 "nbformat": 4,
 "nbformat_minor": 4
}
